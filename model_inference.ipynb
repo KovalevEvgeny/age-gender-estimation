{
 "cells": [
  {
   "cell_type": "markdown",
   "metadata": {},
   "source": [
    "In order to validate model checkpoints, we run inference on the validation part of the dataset."
   ]
  },
  {
   "cell_type": "code",
   "execution_count": 1,
   "metadata": {
    "colab": {
     "base_uri": "https://localhost:8080/"
    },
    "executionInfo": {
     "elapsed": 5824,
     "status": "ok",
     "timestamp": 1645384461101,
     "user": {
      "displayName": "Evgeny Kovalev",
      "photoUrl": "https://lh3.googleusercontent.com/a-/AOh14GhapCcPAzYLJE2xqpH7xgS8qtR8bZrkCgbHm27oLg=s64",
      "userId": "07828702499945486090"
     },
     "user_tz": -180
    },
    "id": "OSKhTs6Nekfc",
    "outputId": "edca6397-f545-490d-ba40-6511bf0b8bf1"
   },
   "outputs": [
    {
     "name": "stdout",
     "output_type": "stream",
     "text": [
      "Drive already mounted at /content/drive; to attempt to forcibly remount, call drive.mount(\"/content/drive\", force_remount=True).\n"
     ]
    }
   ],
   "source": [
    "import albumentations as A\n",
    "import matplotlib.pyplot as plt\n",
    "import numpy as np\n",
    "import os\n",
    "from PIL import Image\n",
    "from sklearn.metrics import accuracy_score, mean_absolute_error\n",
    "from sklearn.model_selection import train_test_split\n",
    "from tensorflow import keras\n",
    "from tensorflow.keras import callbacks, losses, metrics, models, optimizers\n",
    "from tensorflow.keras.applications.vgg16 import VGG16\n",
    "from tensorflow.keras.layers import BatchNormalization, Conv2D, Dense, Dropout, GlobalAveragePooling2D, MaxPooling2D\n",
    "from tensorflow.keras.models import load_model\n",
    "from tensorflow.keras.utils import plot_model, Sequence\n",
    "from tqdm import tqdm\n",
    "\n",
    "%matplotlib inline\n",
    "\n",
    "from google.colab import drive\n",
    "drive.mount('/content/drive')\n",
    "\n",
    "def extract_target(file_name):\n",
    "    age, gender = file_name.split('_')[:2]\n",
    "    age, gender = float(age), int(gender)\n",
    "    return age, gender\n",
    "\n",
    "IMG_DIR = '/content/drive/MyDrive/age_gender_estimation/train_val'\n",
    "\n",
    "train_img_names, val_img_names = train_test_split(os.listdir(IMG_DIR), test_size=0.25, random_state=42, shuffle=True)"
   ]
  },
  {
   "cell_type": "code",
   "execution_count": 2,
   "metadata": {
    "executionInfo": {
     "elapsed": 3,
     "status": "ok",
     "timestamp": 1645384462726,
     "user": {
      "displayName": "Evgeny Kovalev",
      "photoUrl": "https://lh3.googleusercontent.com/a-/AOh14GhapCcPAzYLJE2xqpH7xgS8qtR8bZrkCgbHm27oLg=s64",
      "userId": "07828702499945486090"
     },
     "user_tz": -180
    },
    "id": "m-NcyH-0ffdk"
   },
   "outputs": [],
   "source": [
    "def run_inference(weights_path):\n",
    "    model = load_model(weights_path)\n",
    "    ages_correct, genders_correct = [], []\n",
    "    ages_predicted, genders_predicted = [], []\n",
    "    for img_name in tqdm(val_img_names):\n",
    "        img = np.array(Image.open(os.path.join(IMG_DIR, img_name))) / 255\n",
    "        img = img.reshape(1, 128, 128, 3)\n",
    "        age, gender = extract_target(img_name)\n",
    "        ages_correct.append(age), genders_correct.append(gender)\n",
    "        model_pred = model.predict(img)\n",
    "        age_pred = model_pred[0][0][0]\n",
    "        gender_pred = model_pred[1][0][0]\n",
    "        ages_predicted.append(age_pred), genders_predicted.append(round(gender_pred))\n",
    "    print(f'\\nAccuracy: {accuracy_score(genders_correct, genders_predicted)}')\n",
    "    print(f'MAE: {mean_absolute_error(ages_correct, ages_predicted)}')"
   ]
  },
  {
   "cell_type": "code",
   "execution_count": 3,
   "metadata": {
    "colab": {
     "base_uri": "https://localhost:8080/"
    },
    "executionInfo": {
     "elapsed": 221112,
     "status": "ok",
     "timestamp": 1645384689901,
     "user": {
      "displayName": "Evgeny Kovalev",
      "photoUrl": "https://lh3.googleusercontent.com/a-/AOh14GhapCcPAzYLJE2xqpH7xgS8qtR8bZrkCgbHm27oLg=s64",
      "userId": "07828702499945486090"
     },
     "user_tz": -180
    },
    "id": "F43ZSRpqjnwV",
    "outputId": "dc561a81-cb6e-458b-fb3b-5d51f418a925"
   },
   "outputs": [
    {
     "name": "stderr",
     "output_type": "stream",
     "text": [
      "100%|██████████| 1250/1250 [03:39<00:00,  5.70it/s]"
     ]
    },
    {
     "name": "stdout",
     "output_type": "stream",
     "text": [
      "\n",
      "Accuracy: 0.8544\n",
      "MAE: 7.970671821308136\n"
     ]
    },
    {
     "name": "stderr",
     "output_type": "stream",
     "text": [
      "\n"
     ]
    }
   ],
   "source": [
    "run_inference('/content/drive/MyDrive/age_gender_estimation/models/age_gender_A.h5')"
   ]
  },
  {
   "cell_type": "code",
   "execution_count": 4,
   "metadata": {
    "colab": {
     "base_uri": "https://localhost:8080/"
    },
    "executionInfo": {
     "elapsed": 294585,
     "status": "ok",
     "timestamp": 1645384994138,
     "user": {
      "displayName": "Evgeny Kovalev",
      "photoUrl": "https://lh3.googleusercontent.com/a-/AOh14GhapCcPAzYLJE2xqpH7xgS8qtR8bZrkCgbHm27oLg=s64",
      "userId": "07828702499945486090"
     },
     "user_tz": -180
    },
    "id": "y_Yq_JbVhpNf",
    "outputId": "08fc8066-3c2b-4502-9e27-d998f28ccbb8"
   },
   "outputs": [
    {
     "name": "stderr",
     "output_type": "stream",
     "text": [
      "100%|██████████| 1250/1250 [04:52<00:00,  4.27it/s]"
     ]
    },
    {
     "name": "stdout",
     "output_type": "stream",
     "text": [
      "\n",
      "Accuracy: 0.896\n",
      "MAE: 5.932304301548005\n"
     ]
    },
    {
     "name": "stderr",
     "output_type": "stream",
     "text": [
      "\n"
     ]
    }
   ],
   "source": [
    "run_inference('/content/drive/MyDrive/age_gender_estimation/models/age_gender_B.h5')"
   ]
  }
 ],
 "metadata": {
  "accelerator": "GPU",
  "colab": {
   "authorship_tag": "ABX9TyN7XYBbQO6xR8ycOrYjSoKh",
   "collapsed_sections": [],
   "name": "verify_model_checkpoints.ipynb",
   "provenance": []
  },
  "kernelspec": {
   "display_name": "Python 3",
   "language": "python",
   "name": "python3"
  },
  "language_info": {
   "codemirror_mode": {
    "name": "ipython",
    "version": 3
   },
   "file_extension": ".py",
   "mimetype": "text/x-python",
   "name": "python",
   "nbconvert_exporter": "python",
   "pygments_lexer": "ipython3",
   "version": "3.8.8"
  }
 },
 "nbformat": 4,
 "nbformat_minor": 4
}
